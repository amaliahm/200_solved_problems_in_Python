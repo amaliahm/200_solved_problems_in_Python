{
 "cells": [
  {
   "cell_type": "code",
   "execution_count": 1,
   "metadata": {
    "collapsed": true
   },
   "outputs": [],
   "source": [
    "# Write a Python program to sort a list of elements using shell sort algorithm.\n",
    "# Note : According to Wikipedia \"Shell sort or Shell's method, is an in-place comparison sort. \n",
    "# It can be seen as either a generalization of sorting by exchange (bubble sort) or sorting by insertion (insertion sort). \n",
    "# The method starts by sorting pairs of elements far apart from each other, then progressively reducing the gap between\n",
    "# elements to be compared. Starting with far apart elements can move some out-of-place elements into position faster than\n",
    "# a simple nearest neighbor exchange.\""
   ]
  },
  {
   "cell_type": "code",
   "execution_count": 2,
   "metadata": {},
   "outputs": [],
   "source": [
    "def shellSort(alist):\n",
    "    sublistcount = len(alist)//2\n",
    "    while sublistcount > 0:\n",
    "      for start_position in range(sublistcount):\n",
    "        gap_InsertionSort(alist, start_position, sublistcount)\n",
    "\n",
    "      print(\"After increments of size\",sublistcount, \"The list is\",list)\n",
    "\n",
    "      sublistcount = sublistcount // 2"
   ]
  },
  {
   "cell_type": "code",
   "execution_count": 3,
   "metadata": {},
   "outputs": [],
   "source": [
    "def gap_InsertionSort(list,start,gap):\n",
    "    for i in range(start+gap,len(list),gap):\n",
    "\n",
    "        current_value = list[i]\n",
    "        position = i\n",
    "\n",
    "        while position>=gap and list[position-gap]>current_value:\n",
    "            list[position]=list[position-gap]\n",
    "            position = position-gap\n",
    "\n",
    "        list[position]=current_value"
   ]
  },
  {
   "cell_type": "code",
   "execution_count": 4,
   "metadata": {},
   "outputs": [
    {
     "data": {
      "text/plain": [
       "[14, 46, 43, 27, 57, 41, 45, 21, 70]"
      ]
     },
     "execution_count": 4,
     "metadata": {},
     "output_type": "execute_result"
    }
   ],
   "source": [
    "list = [14, 46, 43, 27, 57, 41, 45, 21, 70]\n",
    "list"
   ]
  },
  {
   "cell_type": "code",
   "execution_count": 5,
   "metadata": {},
   "outputs": [
    {
     "name": "stdout",
     "output_type": "stream",
     "text": [
      "After increments of size 4 The list is [14, 41, 43, 21, 57, 46, 45, 27, 70]\n",
      "After increments of size 2 The list is [14, 21, 43, 27, 45, 41, 57, 46, 70]\n",
      "After increments of size 1 The list is [14, 21, 27, 41, 43, 45, 46, 57, 70]\n"
     ]
    }
   ],
   "source": [
    "shellSort(list)"
   ]
  },
  {
   "cell_type": "code",
   "execution_count": 6,
   "metadata": {},
   "outputs": [
    {
     "data": {
      "text/plain": [
       "[14, 21, 27, 41, 43, 45, 46, 57, 70]"
      ]
     },
     "execution_count": 6,
     "metadata": {},
     "output_type": "execute_result"
    }
   ],
   "source": [
    "list"
   ]
  }
 ],
 "metadata": {
  "kernelspec": {
   "display_name": "base",
   "language": "python",
   "name": "python3"
  },
  "language_info": {
   "codemirror_mode": {
    "name": "ipython",
    "version": 3
   },
   "file_extension": ".py",
   "mimetype": "text/x-python",
   "name": "python",
   "nbconvert_exporter": "python",
   "pygments_lexer": "ipython3",
   "version": "3.11.5"
  }
 },
 "nbformat": 4,
 "nbformat_minor": 2
}
