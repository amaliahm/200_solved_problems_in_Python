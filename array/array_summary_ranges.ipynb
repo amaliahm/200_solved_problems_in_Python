{
 "cells": [
  {
   "cell_type": "code",
   "execution_count": 1,
   "metadata": {},
   "outputs": [],
   "source": [
    "# Given a sorted integer array without duplicates,\n",
    "# return the summary of its ranges.\n",
    "# For example, given [0,1,2,4,5,7], return [\"0->2\",\"4->5\",\"7\"]."
   ]
  },
  {
   "cell_type": "code",
   "execution_count": 2,
   "metadata": {},
   "outputs": [
    {
     "data": {
      "text/plain": [
       "[0, 1, 2, 4, 5, 7]"
      ]
     },
     "execution_count": 2,
     "metadata": {},
     "output_type": "execute_result"
    }
   ],
   "source": [
    "my_array = [0,1,2,4,5,7]\n",
    "my_array"
   ]
  },
  {
   "cell_type": "code",
   "execution_count": 3,
   "metadata": {},
   "outputs": [],
   "source": [
    "sub_array = []\n",
    "output = []\n",
    "i = 0\n",
    "\n",
    "while i <= len(my_array) - 2:\n",
    "    sub_array += [my_array[i]]\n",
    "    if my_array[i] + 1 != my_array[i + 1]:\n",
    "        output += [f'\"{sub_array[0]}->{sub_array[-1]}\"']\n",
    "        sub_array = []\n",
    "    i += 1\n",
    "\n",
    "if output[-1][-2] != my_array[-1]:\n",
    "    output += [f'\"{my_array[-1]}\"']"
   ]
  },
  {
   "cell_type": "code",
   "execution_count": 4,
   "metadata": {},
   "outputs": [
    {
     "data": {
      "text/plain": [
       "['\"0->2\"', '\"4->5\"', '\"7\"']"
      ]
     },
     "execution_count": 4,
     "metadata": {},
     "output_type": "execute_result"
    }
   ],
   "source": [
    "output"
   ]
  },
  {
   "cell_type": "code",
   "execution_count": null,
   "metadata": {},
   "outputs": [],
   "source": []
  }
 ],
 "metadata": {
  "kernelspec": {
   "display_name": "base",
   "language": "python",
   "name": "python3"
  },
  "language_info": {
   "codemirror_mode": {
    "name": "ipython",
    "version": 3
   },
   "file_extension": ".py",
   "mimetype": "text/x-python",
   "name": "python",
   "nbconvert_exporter": "python",
   "pygments_lexer": "ipython3",
   "version": "3.11.5"
  }
 },
 "nbformat": 4,
 "nbformat_minor": 2
}
