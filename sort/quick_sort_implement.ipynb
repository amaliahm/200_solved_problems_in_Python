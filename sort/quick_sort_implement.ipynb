{
 "cells": [
  {
   "cell_type": "code",
   "execution_count": null,
   "metadata": {
    "collapsed": true
   },
   "outputs": [],
   "source": [
    "# Write a Python program to sort a list of elements using the quick sort algorithm.\n",
    "# Note : According to Wikipedia \"Quicksort is a comparison sort, meaning that it can \n",
    "# sort items of any type for which a \"less-than\" relation (formally, a total order) is defined. \n",
    "# In efficient implementations it is not a stable sort, meaning that the relative order of equal \n",
    "# sort items is not preserved. Quicksort can operate in-place on an array, requiring small additional\n",
    "# amounts of memory to perform the sorting.\""
   ]
  },
  {
   "cell_type": "code",
   "execution_count": 1,
   "metadata": {},
   "outputs": [],
   "source": [
    "def quickSort(data_list):\n",
    "   quickSortHlp(data_list,0,len(data_list)-1)"
   ]
  },
  {
   "cell_type": "code",
   "execution_count": 2,
   "metadata": {},
   "outputs": [],
   "source": [
    "def quickSortHlp(data_list,first,last):\n",
    "   if first < last:\n",
    "       splitpoint = partition(data_list,first,last)\n",
    "       quickSortHlp(data_list,first,splitpoint-1)\n",
    "       quickSortHlp(data_list,splitpoint+1,last)"
   ]
  },
  {
   "cell_type": "code",
   "execution_count": 3,
   "metadata": {},
   "outputs": [],
   "source": [
    "def partition(data_list,first,last):\n",
    "   pivotvalue = data_list[first]\n",
    "   leftmark = first+1\n",
    "   rightmark = last\n",
    "   done = False\n",
    "   while not done:\n",
    "       while leftmark <= rightmark and data_list[leftmark] <= pivotvalue:\n",
    "           leftmark = leftmark + 1\n",
    "       while data_list[rightmark] >= pivotvalue and rightmark >= leftmark:\n",
    "           rightmark = rightmark -1\n",
    "       if rightmark < leftmark:\n",
    "           done = True\n",
    "       else:\n",
    "           temp = data_list[leftmark]\n",
    "           data_list[leftmark] = data_list[rightmark]\n",
    "           data_list[rightmark] = temp\n",
    "   temp = data_list[first]\n",
    "   data_list[first] = data_list[rightmark]\n",
    "   data_list[rightmark] = temp\n",
    "\n",
    "   return rightmark"
   ]
  },
  {
   "cell_type": "code",
   "execution_count": 4,
   "metadata": {},
   "outputs": [
    {
     "data": {
      "text/plain": [
       "[54, 26, 93, 17, 77, 31, 44, 55, 20]"
      ]
     },
     "execution_count": 4,
     "metadata": {},
     "output_type": "execute_result"
    }
   ],
   "source": [
    "data_list = [54, 26, 93, 17, 77, 31, 44, 55, 20]\n",
    "data_list"
   ]
  },
  {
   "cell_type": "code",
   "execution_count": 5,
   "metadata": {},
   "outputs": [],
   "source": [
    "quickSort(data_list)"
   ]
  },
  {
   "cell_type": "code",
   "execution_count": 6,
   "metadata": {},
   "outputs": [
    {
     "data": {
      "text/plain": [
       "[17, 20, 26, 31, 44, 54, 55, 77, 93]"
      ]
     },
     "execution_count": 6,
     "metadata": {},
     "output_type": "execute_result"
    }
   ],
   "source": [
    "data_list"
   ]
  }
 ],
 "metadata": {
  "kernelspec": {
   "display_name": "base",
   "language": "python",
   "name": "python3"
  },
  "language_info": {
   "codemirror_mode": {
    "name": "ipython",
    "version": 3
   },
   "file_extension": ".py",
   "mimetype": "text/x-python",
   "name": "python",
   "nbconvert_exporter": "python",
   "pygments_lexer": "ipython3",
   "version": "3.11.5"
  }
 },
 "nbformat": 4,
 "nbformat_minor": 2
}
