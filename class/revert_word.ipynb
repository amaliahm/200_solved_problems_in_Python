{
 "cells": [
  {
   "cell_type": "code",
   "execution_count": 1,
   "metadata": {
    "collapsed": true
   },
   "outputs": [],
   "source": [
    "# Write a Python class to reverse a string word by word.\n",
    "# Input \"hello world\"\n",
    "# Output \"world hello\""
   ]
  },
  {
   "cell_type": "code",
   "execution_count": 2,
   "metadata": {},
   "outputs": [],
   "source": [
    "class Reverse_string():\n",
    "    def __init__(self, string):\n",
    "        self.string = string\n",
    "    \n",
    "    def reverse_function(self):\n",
    "        tmp = self.string.split(' ')\n",
    "        result = ''\n",
    "        for i in range(len(tmp) - 1):\n",
    "            result += f\"{tmp[len(tmp) - i - 1]} \"\n",
    "        return result + f\"{tmp[0]}\""
   ]
  },
  {
   "cell_type": "code",
   "execution_count": 3,
   "metadata": {},
   "outputs": [
    {
     "data": {
      "text/plain": [
       "'amina am i world hello'"
      ]
     },
     "execution_count": 3,
     "metadata": {},
     "output_type": "execute_result"
    }
   ],
   "source": [
    "string = Reverse_string('hello world i am amina')\n",
    "string.reverse_function()"
   ]
  }
 ],
 "metadata": {
  "kernelspec": {
   "display_name": "base",
   "language": "python",
   "name": "python3"
  },
  "language_info": {
   "codemirror_mode": {
    "name": "ipython",
    "version": 3
   },
   "file_extension": ".py",
   "mimetype": "text/x-python",
   "name": "python",
   "nbconvert_exporter": "python",
   "pygments_lexer": "ipython3",
   "version": "3.11.5"
  }
 },
 "nbformat": 4,
 "nbformat_minor": 2
}
