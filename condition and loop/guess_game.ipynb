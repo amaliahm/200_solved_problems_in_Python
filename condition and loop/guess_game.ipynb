{
 "cells": [
  {
   "cell_type": "code",
   "execution_count": 1,
   "metadata": {
    "collapsed": true
   },
   "outputs": [],
   "source": [
    "# Generate a random number between 1 and 9 (including 1 and 9).\n",
    "# Ask the user to guess the number, then tell them whether they guessed too low, too high, or exactly right. \n"
   ]
  },
  {
   "cell_type": "code",
   "execution_count": 2,
   "metadata": {},
   "outputs": [],
   "source": [
    "import random"
   ]
  },
  {
   "cell_type": "code",
   "execution_count": 3,
   "metadata": {},
   "outputs": [
    {
     "data": {
      "text/plain": [
       "9"
      ]
     },
     "execution_count": 3,
     "metadata": {},
     "output_type": "execute_result"
    }
   ],
   "source": [
    "my_number = random.randint(1, 9)\n",
    "my_number"
   ]
  },
  {
   "cell_type": "code",
   "execution_count": 4,
   "metadata": {},
   "outputs": [
    {
     "name": "stdout",
     "output_type": "stream",
     "text": [
      "ur number is:  2, and it is too low\n",
      "ur number is:  6, and it is too low\n",
      "ur number is:  8, and it is too low\n",
      "ur number is:  10, and it is too high\n",
      "ur number is:  9, and it is right\n"
     ]
    }
   ],
   "source": [
    "user_number = 0\n",
    "while user_number != my_number:\n",
    "    user_number = int(input('guess my number'))\n",
    "    print('ur number is: ', user_number, end=', and it is ')\n",
    "    if user_number > my_number:\n",
    "        print('too high')\n",
    "    elif user_number < my_number:\n",
    "        print('too low')\n",
    "    else:\n",
    "        print('right')"
   ]
  }
 ],
 "metadata": {
  "kernelspec": {
   "display_name": "base",
   "language": "python",
   "name": "python3"
  },
  "language_info": {
   "codemirror_mode": {
    "name": "ipython",
    "version": 3
   },
   "file_extension": ".py",
   "mimetype": "text/x-python",
   "name": "python",
   "nbconvert_exporter": "python",
   "pygments_lexer": "ipython3",
   "version": "3.11.5"
  }
 },
 "nbformat": 4,
 "nbformat_minor": 2
}
