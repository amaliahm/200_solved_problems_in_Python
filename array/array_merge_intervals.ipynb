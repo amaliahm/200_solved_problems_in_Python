{
 "cells": [
  {
   "cell_type": "code",
   "execution_count": 1,
   "metadata": {
    "collapsed": true
   },
   "outputs": [],
   "source": [
    "# ---------------------------------------------------------------\n",
    "# python best courses https://courses.tanpham.org/\n",
    "# ---------------------------------------------------------------\n",
    "# Given a collection of intervals which are already sorted by start number, merge all overlapping intervals.\n",
    "# For example,\n",
    "# Given [[1,3],[2,6],[5,10],[11,16],[15,18],[19,22]],\n",
    "# return [[1, 10], [11, 18], [19, 22]]\n"
   ]
  },
  {
   "cell_type": "code",
   "execution_count": 2,
   "metadata": {},
   "outputs": [],
   "source": [
    "given_int = [[1,3],[2,6],[5,10],[11,16],[15,18],[19,22]]"
   ]
  },
  {
   "cell_type": "code",
   "execution_count": 3,
   "metadata": {},
   "outputs": [
    {
     "data": {
      "text/plain": [
       "[[1, 10], [11, 18], [19, 22]]"
      ]
     },
     "execution_count": 3,
     "metadata": {},
     "output_type": "execute_result"
    }
   ],
   "source": [
    "i = 0\n",
    "\n",
    "while i in range(len(given_int) - 1):\n",
    "    if given_int[i][1] > given_int[i+1][0]:\n",
    "        given_int[i][1] = given_int[i+1][1]\n",
    "        del given_int[i+1]\n",
    "        i -= 1\n",
    "    i += 1\n",
    "given_int"
   ]
  }
 ],
 "metadata": {
  "kernelspec": {
   "display_name": "base",
   "language": "python",
   "name": "python3"
  },
  "language_info": {
   "codemirror_mode": {
    "name": "ipython",
    "version": 3
   },
   "file_extension": ".py",
   "mimetype": "text/x-python",
   "name": "python",
   "nbconvert_exporter": "python",
   "pygments_lexer": "ipython3",
   "version": "3.11.5"
  }
 },
 "nbformat": 4,
 "nbformat_minor": 2
}
