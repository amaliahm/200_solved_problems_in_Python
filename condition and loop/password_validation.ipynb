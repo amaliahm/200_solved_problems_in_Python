{
 "cells": [
  {
   "cell_type": "code",
   "execution_count": 1,
   "metadata": {
    "collapsed": true
   },
   "outputs": [],
   "source": [
    "# Write a Python program to check the validity of a password (input from users).\n",
    "\n",
    "# Validation :\n",
    "\n",
    "# At least 1 letter between [a-z] and 1 letter between [A-Z].\n",
    "# At least 1 number between [0-9].\n",
    "# At least 1 character from [$#@].\n",
    "# Minimum length 6 characters.\n",
    "# Maximum length 16 characters.\n",
    "\n",
    "# Input\n",
    "# W3r@100a\n",
    "# Output\n",
    "# Valid password"
   ]
  },
  {
   "cell_type": "code",
   "execution_count": 2,
   "metadata": {},
   "outputs": [],
   "source": [
    "import re"
   ]
  },
  {
   "cell_type": "code",
   "execution_count": 3,
   "metadata": {},
   "outputs": [
    {
     "name": "stdout",
     "output_type": "stream",
     "text": [
      "ur password should contains:\n",
      "At least 1 letter between [a-z] and 1 letter between [A-Z].\n",
      "At least 1 number between [0-9].\n",
      "At least 1 character from [$#@].\n",
      "Minimum length 6 characters.\n",
      "Maximum length 16 characters.\n",
      "\n"
     ]
    }
   ],
   "source": [
    "print('''ur password should contains:\n",
    "At least 1 letter between [a-z] and 1 letter between [A-Z].\n",
    "At least 1 number between [0-9].\n",
    "At least 1 character from [$#@].\n",
    "Minimum length 6 characters.\n",
    "Maximum length 16 characters.\n",
    "''')"
   ]
  },
  {
   "cell_type": "code",
   "execution_count": 4,
   "metadata": {},
   "outputs": [],
   "source": [
    "password = input('please enter ur password')\n",
    "val = False"
   ]
  },
  {
   "cell_type": "code",
   "execution_count": 5,
   "metadata": {},
   "outputs": [
    {
     "name": "stdout",
     "output_type": "stream",
     "text": [
      "amina  is not valid\n",
      "another try  is not valid\n",
      "123456789amina  is not valid\n",
      "W3r@100a  is valid\n"
     ]
    }
   ],
   "source": [
    "while not val:  \n",
    "    if (len(password) > 6 or len(password) < 12) and re.search(\"[a-z]\",password) and re.search(\"[0-9]\",password) and re.search(\"[A-Z]\",password) and re.search(\"[$#@]\",password):\n",
    "        print(password, \" is valid\")\n",
    "        val = True\n",
    "    else:\n",
    "        print(password, ' is not valid')\n",
    "        password = input('please try again')"
   ]
  }
 ],
 "metadata": {
  "kernelspec": {
   "display_name": "base",
   "language": "python",
   "name": "python3"
  },
  "language_info": {
   "codemirror_mode": {
    "name": "ipython",
    "version": 3
   },
   "file_extension": ".py",
   "mimetype": "text/x-python",
   "name": "python",
   "nbconvert_exporter": "python",
   "pygments_lexer": "ipython3",
   "version": "3.11.5"
  }
 },
 "nbformat": 4,
 "nbformat_minor": 2
}
