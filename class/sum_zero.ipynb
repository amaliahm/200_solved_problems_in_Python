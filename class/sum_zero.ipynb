{
 "cells": [
  {
   "cell_type": "code",
   "execution_count": 1,
   "metadata": {
    "collapsed": true
   },
   "outputs": [],
   "source": [
    "# Write a Python program to find the three elements that sum to zero from a set (array) of n real numbers.\n",
    "# Input\n",
    "# [-25, -10, -7, -3, 2, 4, 8, 10]\n",
    "# Output\n",
    "# [[-10, 2, 8], [-7, -3, 10]] "
   ]
  },
  {
   "cell_type": "code",
   "execution_count": 2,
   "metadata": {},
   "outputs": [],
   "source": [
    "class Find_zero:\n",
    "    def zero_function(self, array):\n",
    "        if len(array) < 3:\n",
    "            print('ur table should have three elements at least')\n",
    "        else:\n",
    "            array = sorted(array)\n",
    "            result, i = [], 0\n",
    "\n",
    "            while i < len(array) - 2:\n",
    "                j = i + 1\n",
    "                k = len(array) - 1\n",
    "                while j < k:\n",
    "                    if array[i] + array[j] + array[k] < 0:\n",
    "                        j += 1\n",
    "                    elif array[i] + array[j] + array[k] > 0:\n",
    "                        k -= 1\n",
    "                    else:\n",
    "                        result.append([array[i], array[j], array[k]])\n",
    "                        j += 1\n",
    "                        k -= 1\n",
    "                        while j < k and array[j] == array[j - 1]:\n",
    "                            j += 1\n",
    "                        while j < k and array[k] == array[k + 1]:\n",
    "                            k -= 1\n",
    "                i += 1\n",
    "                while i < len(array) - 2 and array[i] == array[i - 1]:\n",
    "                    i += 1\n",
    "            return result"
   ]
  },
  {
   "cell_type": "code",
   "execution_count": 3,
   "metadata": {},
   "outputs": [
    {
     "name": "stdout",
     "output_type": "stream",
     "text": [
      "ur table should have three elements at least\n"
     ]
    }
   ],
   "source": [
    "find_zero = Find_zero()\n",
    "find_zero.zero_function([0, 1])"
   ]
  },
  {
   "cell_type": "code",
   "execution_count": 4,
   "metadata": {},
   "outputs": [
    {
     "data": {
      "text/plain": [
       "[[-10, 2, 8], [-7, -3, 10]]"
      ]
     },
     "execution_count": 4,
     "metadata": {},
     "output_type": "execute_result"
    }
   ],
   "source": [
    "find_zero.zero_function([-25, -10, -7, -3, 2, 4, 8, 10])"
   ]
  }
 ],
 "metadata": {
  "kernelspec": {
   "display_name": "base",
   "language": "python",
   "name": "python3"
  },
  "language_info": {
   "codemirror_mode": {
    "name": "ipython",
    "version": 3
   },
   "file_extension": ".py",
   "mimetype": "text/x-python",
   "name": "python",
   "nbconvert_exporter": "python",
   "pygments_lexer": "ipython3",
   "version": "3.11.5"
  }
 },
 "nbformat": 4,
 "nbformat_minor": 2
}
