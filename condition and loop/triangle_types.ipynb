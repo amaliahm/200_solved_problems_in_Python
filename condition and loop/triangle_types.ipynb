{
 "cells": [
  {
   "cell_type": "code",
   "execution_count": 1,
   "metadata": {
    "collapsed": true
   },
   "outputs": [],
   "source": [
    "# Write a Python program to check a triangle is equilateral, isosceles or scalene.\n",
    "# Note :\n",
    "# An equilateral triangle is a triangle in which all three sides are equal.\n",
    "# A scalene triangle is a triangle that has three unequal sides.\n",
    "# An isosceles triangle is a triangle with (at least) two equal sides."
   ]
  },
  {
   "cell_type": "code",
   "execution_count": 2,
   "metadata": {},
   "outputs": [],
   "source": [
    "line_1 = int(input('give me the first line'))\n",
    "line_2 = int(input('give me the second line'))\n",
    "line_3 = int(input('give me the third line'))"
   ]
  },
  {
   "cell_type": "code",
   "execution_count": 3,
   "metadata": {},
   "outputs": [
    {
     "name": "stdout",
     "output_type": "stream",
     "text": [
      "(first line, second line, third line)\n"
     ]
    },
    {
     "data": {
      "text/plain": [
       "(2, 5, 7)"
      ]
     },
     "execution_count": 3,
     "metadata": {},
     "output_type": "execute_result"
    }
   ],
   "source": [
    "print('(first line, second line, third line)')\n",
    "(line_1, line_2, line_3)"
   ]
  },
  {
   "cell_type": "code",
   "execution_count": 4,
   "metadata": {},
   "outputs": [
    {
     "name": "stdout",
     "output_type": "stream",
     "text": [
      "ur triangle is scalene\n"
     ]
    }
   ],
   "source": [
    "if (line_1 != line_2 and line_2 != line_3 and line_3 != line_2):\n",
    "    print('ur triangle is scalene')\n",
    "elif (line_1 == line_2 and line_2 == line_3):\n",
    "    print('ur triangle is equilateral')\n",
    "elif (line_1 == line_2 and line_2 != line_3) or (line_2 == line_3 and line_1 != line_2) or (line_1 == line_3 and line_1 != line_2):\n",
    "    print('ur triangle is isosceles')"
   ]
  }
 ],
 "metadata": {
  "kernelspec": {
   "display_name": "base",
   "language": "python",
   "name": "python3"
  },
  "language_info": {
   "codemirror_mode": {
    "name": "ipython",
    "version": 3
   },
   "file_extension": ".py",
   "mimetype": "text/x-python",
   "name": "python",
   "nbconvert_exporter": "python",
   "pygments_lexer": "ipython3",
   "version": "3.11.5"
  }
 },
 "nbformat": 4,
 "nbformat_minor": 2
}
